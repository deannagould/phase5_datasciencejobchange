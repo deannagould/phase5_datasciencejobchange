{
 "cells": [
  {
   "cell_type": "markdown",
   "metadata": {},
   "source": [
    "# Phase 5 Final Project: **Predicting Job Change of Data Scientists**\n"
   ]
  },
  {
   "cell_type": "markdown",
   "metadata": {},
   "source": [
    "**Deanna Gould**  \n",
    "Data Science Flex  \n",
    "Instructor: Morgan Jones  \n",
    "Presentation Date: September 27, 2023"
   ]
  },
  {
   "cell_type": "markdown",
   "metadata": {
    "heading_collapsed": true
   },
   "source": [
    "## Overview"
   ]
  },
  {
   "cell_type": "markdown",
   "metadata": {
    "hidden": true
   },
   "source": [
    "### Business Problem"
   ]
  },
  {
   "cell_type": "markdown",
   "metadata": {
    "hidden": true
   },
   "source": [
    "The company that is conducting this study is very prominent in Big Data and Data Science. The company offers training courses for data scientists and will attempt to recruit successful candidates after the completion of the training. The company would like to allocate resources appropriately, so it's important to determine which candidates are interested in working with the company after graduation, and which candidates will move onto something else. "
   ]
  },
  {
   "cell_type": "markdown",
   "metadata": {
    "hidden": true
   },
   "source": [
    "### About the Data"
   ]
  },
  {
   "cell_type": "markdown",
   "metadata": {
    "hidden": true
   },
   "source": [
    "This dataset is a kaggle dataset, which provides features that might impact whether or not a data scientist will be looking for a new job. The included columns are listed below, and the dataset can be found [here.](https://www.kaggle.com/datasets/arashnic/hr-analytics-job-change-of-data-scientists)"
   ]
  },
  {
   "cell_type": "markdown",
   "metadata": {
    "hidden": true
   },
   "source": [
    "`enrollee_id` : Unique ID for candidate  \n",
    "\n",
    "`city` : City code  \n",
    "\n",
    "`city_development_index` : Developement index of the city (scaled)  \n",
    "\n",
    "`gender` : Gender of candidate  \n",
    "\n",
    "`relevent_experience` : Relevant experience of candidate  \n",
    "\n",
    "`enrolled_university` : Type of University course enrolled if any  \n",
    "\n",
    "`education_level` : Education level of candidate  \n",
    "\n",
    "`major_discipline`  :Education major discipline of candidate  \n",
    "\n",
    "`experience` : Candidate total experience in years  \n",
    "\n",
    "`company_size` : No of employees in current employer's company  \n",
    "\n",
    "`company_type` : Type of current employer  \n",
    "\n",
    "`last_new_job` : Difference in years between previous job and current job  \n",
    "\n",
    "`training_hours` : training hours completed  \n",
    "\n",
    "`target` : 0 – Not looking for job change, 1 – Looking for a job change  "
   ]
  },
  {
   "cell_type": "markdown",
   "metadata": {},
   "source": [
    "## Importing Libraries"
   ]
  },
  {
   "cell_type": "code",
   "execution_count": null,
   "metadata": {},
   "outputs": [],
   "source": [
    "import pandas as pd\n",
    "m"
   ]
  },
  {
   "cell_type": "markdown",
   "metadata": {},
   "source": [
    "## Creating Functions"
   ]
  },
  {
   "cell_type": "markdown",
   "metadata": {},
   "source": [
    "## Data Analysis"
   ]
  },
  {
   "cell_type": "markdown",
   "metadata": {},
   "source": [
    "## Preprocessing"
   ]
  },
  {
   "cell_type": "markdown",
   "metadata": {},
   "source": [
    "## Modeling"
   ]
  },
  {
   "cell_type": "code",
   "execution_count": null,
   "metadata": {},
   "outputs": [],
   "source": []
  }
 ],
 "metadata": {
  "kernelspec": {
   "display_name": "Python (learn-env)",
   "language": "python",
   "name": "learn-env"
  },
  "language_info": {
   "codemirror_mode": {
    "name": "ipython",
    "version": 3
   },
   "file_extension": ".py",
   "mimetype": "text/x-python",
   "name": "python",
   "nbconvert_exporter": "python",
   "pygments_lexer": "ipython3",
   "version": "3.8.5"
  }
 },
 "nbformat": 4,
 "nbformat_minor": 4
}
